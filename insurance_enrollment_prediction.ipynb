{
 "cells": [
  {
   "cell_type": "markdown",
   "id": "36dac2ed",
   "metadata": {},
   "source": [
    "# Insurance Enrollment Prediction\n",
    "This notebook walks through building a machine learning model to predict whether an employee will enroll in a health insurance plan."
   ]
  },
  {
   "cell_type": "markdown",
   "id": "129670f0",
   "metadata": {},
   "source": [
    "## Step 1: Load and Explore Data"
   ]
  },
  {
   "cell_type": "code",
   "execution_count": 1,
   "id": "45229ac5",
   "metadata": {},
   "outputs": [
    {
     "data": {
      "text/html": [
       "<div>\n",
       "<style scoped>\n",
       "    .dataframe tbody tr th:only-of-type {\n",
       "        vertical-align: middle;\n",
       "    }\n",
       "\n",
       "    .dataframe tbody tr th {\n",
       "        vertical-align: top;\n",
       "    }\n",
       "\n",
       "    .dataframe thead th {\n",
       "        text-align: right;\n",
       "    }\n",
       "</style>\n",
       "<table border=\"1\" class=\"dataframe\">\n",
       "  <thead>\n",
       "    <tr style=\"text-align: right;\">\n",
       "      <th></th>\n",
       "      <th>employee_id</th>\n",
       "      <th>age</th>\n",
       "      <th>gender</th>\n",
       "      <th>marital_status</th>\n",
       "      <th>salary</th>\n",
       "      <th>employment_type</th>\n",
       "      <th>region</th>\n",
       "      <th>has_dependents</th>\n",
       "      <th>tenure_years</th>\n",
       "      <th>enrolled</th>\n",
       "    </tr>\n",
       "  </thead>\n",
       "  <tbody>\n",
       "    <tr>\n",
       "      <th>0</th>\n",
       "      <td>10001</td>\n",
       "      <td>60</td>\n",
       "      <td>Female</td>\n",
       "      <td>Single</td>\n",
       "      <td>55122.97</td>\n",
       "      <td>Part-time</td>\n",
       "      <td>West</td>\n",
       "      <td>No</td>\n",
       "      <td>1.5</td>\n",
       "      <td>0</td>\n",
       "    </tr>\n",
       "    <tr>\n",
       "      <th>1</th>\n",
       "      <td>10002</td>\n",
       "      <td>50</td>\n",
       "      <td>Female</td>\n",
       "      <td>Single</td>\n",
       "      <td>89549.66</td>\n",
       "      <td>Full-time</td>\n",
       "      <td>West</td>\n",
       "      <td>Yes</td>\n",
       "      <td>12.8</td>\n",
       "      <td>1</td>\n",
       "    </tr>\n",
       "    <tr>\n",
       "      <th>2</th>\n",
       "      <td>10003</td>\n",
       "      <td>36</td>\n",
       "      <td>Male</td>\n",
       "      <td>Divorced</td>\n",
       "      <td>74145.66</td>\n",
       "      <td>Part-time</td>\n",
       "      <td>Midwest</td>\n",
       "      <td>No</td>\n",
       "      <td>3.8</td>\n",
       "      <td>0</td>\n",
       "    </tr>\n",
       "    <tr>\n",
       "      <th>3</th>\n",
       "      <td>10004</td>\n",
       "      <td>64</td>\n",
       "      <td>Female</td>\n",
       "      <td>Married</td>\n",
       "      <td>53877.83</td>\n",
       "      <td>Full-time</td>\n",
       "      <td>Northeast</td>\n",
       "      <td>No</td>\n",
       "      <td>3.3</td>\n",
       "      <td>0</td>\n",
       "    </tr>\n",
       "    <tr>\n",
       "      <th>4</th>\n",
       "      <td>10005</td>\n",
       "      <td>29</td>\n",
       "      <td>Male</td>\n",
       "      <td>Single</td>\n",
       "      <td>63404.63</td>\n",
       "      <td>Contract</td>\n",
       "      <td>Midwest</td>\n",
       "      <td>Yes</td>\n",
       "      <td>10.0</td>\n",
       "      <td>0</td>\n",
       "    </tr>\n",
       "  </tbody>\n",
       "</table>\n",
       "</div>"
      ],
      "text/plain": [
       "   employee_id  age  gender marital_status    salary employment_type  \\\n",
       "0        10001   60  Female         Single  55122.97       Part-time   \n",
       "1        10002   50  Female         Single  89549.66       Full-time   \n",
       "2        10003   36    Male       Divorced  74145.66       Part-time   \n",
       "3        10004   64  Female        Married  53877.83       Full-time   \n",
       "4        10005   29    Male         Single  63404.63        Contract   \n",
       "\n",
       "      region has_dependents  tenure_years  enrolled  \n",
       "0       West             No           1.5         0  \n",
       "1       West            Yes          12.8         1  \n",
       "2    Midwest             No           3.8         0  \n",
       "3  Northeast             No           3.3         0  \n",
       "4    Midwest            Yes          10.0         0  "
      ]
     },
     "execution_count": 1,
     "metadata": {},
     "output_type": "execute_result"
    }
   ],
   "source": [
    "import pandas as pd\n",
    "df = pd.read_csv('employee_data.csv')\n",
    "df.head()"
   ]
  },
  {
   "cell_type": "markdown",
   "id": "fbbae8b5",
   "metadata": {},
   "source": [
    "## Step 2: Data Cleaning and Preprocessing\n",
    "We identified categorical columns and binary values like `Yes`/`No` which needed encoding."
   ]
  },
  {
   "cell_type": "code",
   "execution_count": 2,
   "id": "7977549f",
   "metadata": {},
   "outputs": [],
   "source": [
    "df = df.dropna()\n",
    "from sklearn.preprocessing import LabelEncoder\n",
    "le = LabelEncoder()\n",
    "for col in ['gender', 'marital_status', 'employment_type', 'region']:\n",
    "    df[col] = le.fit_transform(df[col])\n",
    "df['has_dependents'] = df['has_dependents'].map({'Yes': 1, 'No': 0})"
   ]
  },
  {
   "cell_type": "markdown",
   "id": "f2d3c836",
   "metadata": {},
   "source": [
    "## Cleaned Data"
   ]
  },
  {
   "cell_type": "code",
   "execution_count": 3,
   "id": "f777441b",
   "metadata": {},
   "outputs": [
    {
     "data": {
      "text/html": [
       "<div>\n",
       "<style scoped>\n",
       "    .dataframe tbody tr th:only-of-type {\n",
       "        vertical-align: middle;\n",
       "    }\n",
       "\n",
       "    .dataframe tbody tr th {\n",
       "        vertical-align: top;\n",
       "    }\n",
       "\n",
       "    .dataframe thead th {\n",
       "        text-align: right;\n",
       "    }\n",
       "</style>\n",
       "<table border=\"1\" class=\"dataframe\">\n",
       "  <thead>\n",
       "    <tr style=\"text-align: right;\">\n",
       "      <th></th>\n",
       "      <th>employee_id</th>\n",
       "      <th>age</th>\n",
       "      <th>gender</th>\n",
       "      <th>marital_status</th>\n",
       "      <th>salary</th>\n",
       "      <th>employment_type</th>\n",
       "      <th>region</th>\n",
       "      <th>has_dependents</th>\n",
       "      <th>tenure_years</th>\n",
       "      <th>enrolled</th>\n",
       "    </tr>\n",
       "  </thead>\n",
       "  <tbody>\n",
       "    <tr>\n",
       "      <th>0</th>\n",
       "      <td>10001</td>\n",
       "      <td>60</td>\n",
       "      <td>0</td>\n",
       "      <td>2</td>\n",
       "      <td>55122.97</td>\n",
       "      <td>2</td>\n",
       "      <td>3</td>\n",
       "      <td>0</td>\n",
       "      <td>1.5</td>\n",
       "      <td>0</td>\n",
       "    </tr>\n",
       "    <tr>\n",
       "      <th>1</th>\n",
       "      <td>10002</td>\n",
       "      <td>50</td>\n",
       "      <td>0</td>\n",
       "      <td>2</td>\n",
       "      <td>89549.66</td>\n",
       "      <td>1</td>\n",
       "      <td>3</td>\n",
       "      <td>1</td>\n",
       "      <td>12.8</td>\n",
       "      <td>1</td>\n",
       "    </tr>\n",
       "    <tr>\n",
       "      <th>2</th>\n",
       "      <td>10003</td>\n",
       "      <td>36</td>\n",
       "      <td>1</td>\n",
       "      <td>0</td>\n",
       "      <td>74145.66</td>\n",
       "      <td>2</td>\n",
       "      <td>0</td>\n",
       "      <td>0</td>\n",
       "      <td>3.8</td>\n",
       "      <td>0</td>\n",
       "    </tr>\n",
       "    <tr>\n",
       "      <th>3</th>\n",
       "      <td>10004</td>\n",
       "      <td>64</td>\n",
       "      <td>0</td>\n",
       "      <td>1</td>\n",
       "      <td>53877.83</td>\n",
       "      <td>1</td>\n",
       "      <td>1</td>\n",
       "      <td>0</td>\n",
       "      <td>3.3</td>\n",
       "      <td>0</td>\n",
       "    </tr>\n",
       "    <tr>\n",
       "      <th>4</th>\n",
       "      <td>10005</td>\n",
       "      <td>29</td>\n",
       "      <td>1</td>\n",
       "      <td>2</td>\n",
       "      <td>63404.63</td>\n",
       "      <td>0</td>\n",
       "      <td>0</td>\n",
       "      <td>1</td>\n",
       "      <td>10.0</td>\n",
       "      <td>0</td>\n",
       "    </tr>\n",
       "  </tbody>\n",
       "</table>\n",
       "</div>"
      ],
      "text/plain": [
       "   employee_id  age  gender  marital_status    salary  employment_type  \\\n",
       "0        10001   60       0               2  55122.97                2   \n",
       "1        10002   50       0               2  89549.66                1   \n",
       "2        10003   36       1               0  74145.66                2   \n",
       "3        10004   64       0               1  53877.83                1   \n",
       "4        10005   29       1               2  63404.63                0   \n",
       "\n",
       "   region  has_dependents  tenure_years  enrolled  \n",
       "0       3               0           1.5         0  \n",
       "1       3               1          12.8         1  \n",
       "2       0               0           3.8         0  \n",
       "3       1               0           3.3         0  \n",
       "4       0               1          10.0         0  "
      ]
     },
     "execution_count": 3,
     "metadata": {},
     "output_type": "execute_result"
    }
   ],
   "source": [
    "df.head()"
   ]
  },
  {
   "cell_type": "markdown",
   "id": "1064fe61",
   "metadata": {},
   "source": [
    "## Step 3: Define Features and Target"
   ]
  },
  {
   "cell_type": "code",
   "execution_count": 4,
   "id": "4198795a",
   "metadata": {},
   "outputs": [],
   "source": [
    "X = df.drop(columns=['enrolled', 'employee_id'])\n",
    "y = df['enrolled']"
   ]
  },
  {
   "cell_type": "markdown",
   "id": "38c61177",
   "metadata": {},
   "source": [
    "## Step 4: Feature Scaling"
   ]
  },
  {
   "cell_type": "code",
   "execution_count": 5,
   "id": "71bedd6d",
   "metadata": {},
   "outputs": [],
   "source": [
    "from sklearn.preprocessing import StandardScaler\n",
    "scaler = StandardScaler()\n",
    "X_scaled = scaler.fit_transform(X)"
   ]
  },
  {
   "cell_type": "markdown",
   "id": "6e6f0625",
   "metadata": {},
   "source": [
    "## Step 5: Train-Test Split"
   ]
  },
  {
   "cell_type": "code",
   "execution_count": 6,
   "id": "503abffd",
   "metadata": {},
   "outputs": [],
   "source": [
    "from sklearn.model_selection import train_test_split\n",
    "X_train, X_test, y_train, y_test = train_test_split(X_scaled, y, test_size=0.2, random_state=42)"
   ]
  },
  {
   "cell_type": "markdown",
   "id": "57d843d6",
   "metadata": {},
   "source": [
    "## Step 6: Initial Model - Random Forest"
   ]
  },
  {
   "cell_type": "code",
   "execution_count": 7,
   "id": "34777818",
   "metadata": {},
   "outputs": [
    {
     "data": {
      "text/html": [
       "<div>\n",
       "<style scoped>\n",
       "    .dataframe tbody tr th:only-of-type {\n",
       "        vertical-align: middle;\n",
       "    }\n",
       "\n",
       "    .dataframe tbody tr th {\n",
       "        vertical-align: top;\n",
       "    }\n",
       "\n",
       "    .dataframe thead th {\n",
       "        text-align: right;\n",
       "    }\n",
       "</style>\n",
       "<table border=\"1\" class=\"dataframe\">\n",
       "  <thead>\n",
       "    <tr style=\"text-align: right;\">\n",
       "      <th></th>\n",
       "      <th>precision</th>\n",
       "      <th>recall</th>\n",
       "      <th>f1-score</th>\n",
       "      <th>support</th>\n",
       "    </tr>\n",
       "  </thead>\n",
       "  <tbody>\n",
       "    <tr>\n",
       "      <th>0</th>\n",
       "      <td>1.0</td>\n",
       "      <td>1.0</td>\n",
       "      <td>1.0</td>\n",
       "      <td>753.0</td>\n",
       "    </tr>\n",
       "    <tr>\n",
       "      <th>1</th>\n",
       "      <td>1.0</td>\n",
       "      <td>1.0</td>\n",
       "      <td>1.0</td>\n",
       "      <td>1247.0</td>\n",
       "    </tr>\n",
       "    <tr>\n",
       "      <th>accuracy</th>\n",
       "      <td>1.0</td>\n",
       "      <td>1.0</td>\n",
       "      <td>1.0</td>\n",
       "      <td>1.0</td>\n",
       "    </tr>\n",
       "    <tr>\n",
       "      <th>macro avg</th>\n",
       "      <td>1.0</td>\n",
       "      <td>1.0</td>\n",
       "      <td>1.0</td>\n",
       "      <td>2000.0</td>\n",
       "    </tr>\n",
       "    <tr>\n",
       "      <th>weighted avg</th>\n",
       "      <td>1.0</td>\n",
       "      <td>1.0</td>\n",
       "      <td>1.0</td>\n",
       "      <td>2000.0</td>\n",
       "    </tr>\n",
       "  </tbody>\n",
       "</table>\n",
       "</div>"
      ],
      "text/plain": [
       "              precision  recall  f1-score  support\n",
       "0                   1.0     1.0       1.0    753.0\n",
       "1                   1.0     1.0       1.0   1247.0\n",
       "accuracy            1.0     1.0       1.0      1.0\n",
       "macro avg           1.0     1.0       1.0   2000.0\n",
       "weighted avg        1.0     1.0       1.0   2000.0"
      ]
     },
     "execution_count": 7,
     "metadata": {},
     "output_type": "execute_result"
    }
   ],
   "source": [
    "from sklearn.ensemble import RandomForestClassifier\n",
    "from sklearn.metrics import classification_report\n",
    "import pandas as pd\n",
    "\n",
    "# Train Random Forest\n",
    "rf = RandomForestClassifier(n_estimators=100, random_state=42)\n",
    "rf.fit(X_train, y_train)\n",
    "y_pred_rf = rf.predict(X_test)\n",
    "\n",
    "# Generate classification report as dict\n",
    "report_dict = classification_report(y_test, y_pred_rf, output_dict=True)\n",
    "\n",
    "# Convert to DataFrame for tabular view\n",
    "report_df = pd.DataFrame(report_dict).transpose()\n",
    "report_df"
   ]
  },
  {
   "cell_type": "markdown",
   "id": "b6d3b144",
   "metadata": {},
   "source": [
    "## Step 7: Confusion Matrix"
   ]
  },
  {
   "cell_type": "code",
   "execution_count": 8,
   "id": "a179b49b",
   "metadata": {},
   "outputs": [
    {
     "data": {
      "text/plain": [
       "<Figure size 432x288 with 0 Axes>"
      ]
     },
     "metadata": {},
     "output_type": "display_data"
    },
    {
     "data": {
      "image/png": "[encoded data removed]",
      "text/plain": [
       "<Figure size 432x288 with 2 Axes>"
      ]
     },
     "metadata": {
      "needs_background": "light"
     },
     "output_type": "display_data"
    }
   ],
   "source": [
    "from sklearn.metrics import confusion_matrix, ConfusionMatrixDisplay\n",
    "import matplotlib.pyplot as plt\n",
    "cm = confusion_matrix(y_test, y_pred_rf)\n",
    "disp = ConfusionMatrixDisplay(confusion_matrix=cm, display_labels=['Not Enrolled', 'Enrolled'])\n",
    "plt.figure(figsize=(6, 4))\n",
    "disp.plot(cmap='Blues', values_format='d')\n",
    "plt.title('Confusion Matrix: Random Forest')\n",
    "plt.tight_layout()\n",
    "plt.show()"
   ]
  },
  {
   "cell_type": "markdown",
   "id": "4b1d7477",
   "metadata": {},
   "source": [
    "## Step 8: Cross-validation (10-Fold)"
   ]
  },
  {
   "cell_type": "code",
   "execution_count": 9,
   "id": "53e50743",
   "metadata": {},
   "outputs": [
    {
     "data": {
      "text/html": [
       "<div>\n",
       "<style scoped>\n",
       "    .dataframe tbody tr th:only-of-type {\n",
       "        vertical-align: middle;\n",
       "    }\n",
       "\n",
       "    .dataframe tbody tr th {\n",
       "        vertical-align: top;\n",
       "    }\n",
       "\n",
       "    .dataframe thead th {\n",
       "        text-align: right;\n",
       "    }\n",
       "</style>\n",
       "<table border=\"1\" class=\"dataframe\">\n",
       "  <thead>\n",
       "    <tr style=\"text-align: right;\">\n",
       "      <th></th>\n",
       "      <th>Fold</th>\n",
       "      <th>F1 Score</th>\n",
       "    </tr>\n",
       "  </thead>\n",
       "  <tbody>\n",
       "    <tr>\n",
       "      <th>0</th>\n",
       "      <td>Fold 1</td>\n",
       "      <td>1.000000</td>\n",
       "    </tr>\n",
       "    <tr>\n",
       "      <th>1</th>\n",
       "      <td>Fold 2</td>\n",
       "      <td>1.000000</td>\n",
       "    </tr>\n",
       "    <tr>\n",
       "      <th>2</th>\n",
       "      <td>Fold 3</td>\n",
       "      <td>0.999189</td>\n",
       "    </tr>\n",
       "    <tr>\n",
       "      <th>3</th>\n",
       "      <td>Fold 4</td>\n",
       "      <td>1.000000</td>\n",
       "    </tr>\n",
       "    <tr>\n",
       "      <th>4</th>\n",
       "      <td>Fold 5</td>\n",
       "      <td>1.000000</td>\n",
       "    </tr>\n",
       "    <tr>\n",
       "      <th>5</th>\n",
       "      <td>Fold 6</td>\n",
       "      <td>1.000000</td>\n",
       "    </tr>\n",
       "    <tr>\n",
       "      <th>6</th>\n",
       "      <td>Fold 7</td>\n",
       "      <td>1.000000</td>\n",
       "    </tr>\n",
       "    <tr>\n",
       "      <th>7</th>\n",
       "      <td>Fold 8</td>\n",
       "      <td>0.999190</td>\n",
       "    </tr>\n",
       "    <tr>\n",
       "      <th>8</th>\n",
       "      <td>Fold 9</td>\n",
       "      <td>1.000000</td>\n",
       "    </tr>\n",
       "    <tr>\n",
       "      <th>9</th>\n",
       "      <td>Fold 10</td>\n",
       "      <td>0.999192</td>\n",
       "    </tr>\n",
       "    <tr>\n",
       "      <th>10</th>\n",
       "      <td>Mean</td>\n",
       "      <td>0.999757</td>\n",
       "    </tr>\n",
       "  </tbody>\n",
       "</table>\n",
       "</div>"
      ],
      "text/plain": [
       "       Fold  F1 Score\n",
       "0    Fold 1  1.000000\n",
       "1    Fold 2  1.000000\n",
       "2    Fold 3  0.999189\n",
       "3    Fold 4  1.000000\n",
       "4    Fold 5  1.000000\n",
       "5    Fold 6  1.000000\n",
       "6    Fold 7  1.000000\n",
       "7    Fold 8  0.999190\n",
       "8    Fold 9  1.000000\n",
       "9   Fold 10  0.999192\n",
       "10     Mean  0.999757"
      ]
     },
     "execution_count": 9,
     "metadata": {},
     "output_type": "execute_result"
    }
   ],
   "source": [
    "from sklearn.model_selection import cross_val_score\n",
    "cv_scores = cross_val_score(rf, X_scaled, y, cv=10, scoring='f1')\n",
    "\n",
    "# Create a DataFrame to display results in tabular format\n",
    "cv_df = pd.DataFrame({\n",
    "    'Fold': [f'Fold {i+1}' for i in range(len(cv_scores))],\n",
    "    'F1 Score': cv_scores\n",
    "})\n",
    "\n",
    "\n",
    "# Add mean row at the end\n",
    "mean_f1 = cv_scores.mean()\n",
    "cv_df.loc[len(cv_df.index)] = ['Mean', mean_f1]\n",
    "\n",
    "\n",
    "# Display the table\n",
    "cv_df"
   ]
  },
  {
   "cell_type": "markdown",
   "id": "1ca70ce3",
   "metadata": {},
   "source": [
    "## Step 9: Feature Importance"
   ]
  },
  {
   "cell_type": "code",
   "execution_count": 10,
   "id": "c1e4f7ec",
   "metadata": {},
   "outputs": [
    {
     "data": {
      "image/png": "[encoded data removed]",
      "text/plain": [
       "<Figure size 576x360 with 1 Axes>"
      ]
     },
     "metadata": {
      "needs_background": "light"
     },
     "output_type": "display_data"
    }
   ],
   "source": [
    "import seaborn as sns\n",
    "rf.fit(X_scaled, y)\n",
    "importances = rf.feature_importances_\n",
    "features = X.columns\n",
    "plt.figure(figsize=(8, 5))\n",
    "sns.barplot(x=importances, y=features)\n",
    "plt.title('Feature Importances')\n",
    "plt.xlabel('Importance')\n",
    "plt.ylabel('Feature')\n",
    "plt.tight_layout()\n",
    "plt.show()"
   ]
  },
  {
   "cell_type": "markdown",
   "id": "19d61bfd",
   "metadata": {},
   "source": [
    "## Step 10: Hyperparameter Tuning (Smart Defaults)\n",
    "**Why Smart Defaults? -**"
   ]
  },
  {
   "cell_type": "markdown",
   "id": "b2324607",
   "metadata": {},
   "source": [
    "Hyperparameter tuning using GridSearchCV or RandomizedSearchCV often takes a long time and can timeout in limited compute environments.\n",
    "To avoid repeated session failures, we applied \"Smart Defaults\" — well-established parameter settings\n",
    "based on previous experiments and best practices in the industry.\n",
    "This approach gives a strong balance between model performance and compute efficiency."
   ]
  },
  {
   "cell_type": "code",
   "execution_count": 11,
   "id": "267be08c",
   "metadata": {},
   "outputs": [
    {
     "data": {
      "text/html": [
       "<div>\n",
       "<style scoped>\n",
       "    .dataframe tbody tr th:only-of-type {\n",
       "        vertical-align: middle;\n",
       "    }\n",
       "\n",
       "    .dataframe tbody tr th {\n",
       "        vertical-align: top;\n",
       "    }\n",
       "\n",
       "    .dataframe thead th {\n",
       "        text-align: right;\n",
       "    }\n",
       "</style>\n",
       "<table border=\"1\" class=\"dataframe\">\n",
       "  <thead>\n",
       "    <tr style=\"text-align: right;\">\n",
       "      <th></th>\n",
       "      <th>precision</th>\n",
       "      <th>recall</th>\n",
       "      <th>f1-score</th>\n",
       "      <th>support</th>\n",
       "    </tr>\n",
       "  </thead>\n",
       "  <tbody>\n",
       "    <tr>\n",
       "      <th>0</th>\n",
       "      <td>1.0</td>\n",
       "      <td>1.0</td>\n",
       "      <td>1.0</td>\n",
       "      <td>753.0</td>\n",
       "    </tr>\n",
       "    <tr>\n",
       "      <th>1</th>\n",
       "      <td>1.0</td>\n",
       "      <td>1.0</td>\n",
       "      <td>1.0</td>\n",
       "      <td>1247.0</td>\n",
       "    </tr>\n",
       "    <tr>\n",
       "      <th>accuracy</th>\n",
       "      <td>1.0</td>\n",
       "      <td>1.0</td>\n",
       "      <td>1.0</td>\n",
       "      <td>1.0</td>\n",
       "    </tr>\n",
       "    <tr>\n",
       "      <th>macro avg</th>\n",
       "      <td>1.0</td>\n",
       "      <td>1.0</td>\n",
       "      <td>1.0</td>\n",
       "      <td>2000.0</td>\n",
       "    </tr>\n",
       "    <tr>\n",
       "      <th>weighted avg</th>\n",
       "      <td>1.0</td>\n",
       "      <td>1.0</td>\n",
       "      <td>1.0</td>\n",
       "      <td>2000.0</td>\n",
       "    </tr>\n",
       "  </tbody>\n",
       "</table>\n",
       "</div>"
      ],
      "text/plain": [
       "              precision  recall  f1-score  support\n",
       "0                   1.0     1.0       1.0    753.0\n",
       "1                   1.0     1.0       1.0   1247.0\n",
       "accuracy            1.0     1.0       1.0      1.0\n",
       "macro avg           1.0     1.0       1.0   2000.0\n",
       "weighted avg        1.0     1.0       1.0   2000.0"
      ]
     },
     "execution_count": 11,
     "metadata": {},
     "output_type": "execute_result"
    }
   ],
   "source": [
    "from sklearn.ensemble import GradientBoostingClassifier\n",
    "gb = GradientBoostingClassifier(n_estimators=150, learning_rate=0.05, max_depth=4,\n",
    "    subsample=0.8, min_samples_split=4, random_state=42)\n",
    "gb.fit(X_train, y_train)\n",
    "y_pred_gb = gb.predict(X_test)\n",
    "\n",
    "# Generate classification report as a dictionary\n",
    "GB_dict = classification_report(y_test, y_pred_gb, output_dict=True)\n",
    "\n",
    "# Convert to DataFrame\n",
    "GB_result = pd.DataFrame(report_dict).transpose()\n",
    "\n",
    "# Display Result\n",
    "GB_result"
   ]
  },
  {
   "cell_type": "markdown",
   "id": "c64d2f74",
   "metadata": {},
   "source": [
    "## Step 11: Voting Ensemble (Random Forest + Logistic Regression + Gradient Boosting)\n",
    "\n",
    "Each model type has its own strengths:\n",
    "- Random Forest captures nonlinearities and performs well with default settings.\n",
    "- Logistic Regression is simple and robust for linear trends.\n",
    "- Gradient Boosting excels in performance by focusing on correcting errors iteratively.\n",
    "\n",
    "Combining them using a soft voting ensemble allows the final prediction to benefit from the diverse perspectives\n",
    "of each model, improving generalization and reducing individual model biases."
   ]
  },
  {
   "cell_type": "code",
   "execution_count": 12,
   "id": "bb4cdd41",
   "metadata": {},
   "outputs": [
    {
     "data": {
      "text/html": [
       "<div>\n",
       "<style scoped>\n",
       "    .dataframe tbody tr th:only-of-type {\n",
       "        vertical-align: middle;\n",
       "    }\n",
       "\n",
       "    .dataframe tbody tr th {\n",
       "        vertical-align: top;\n",
       "    }\n",
       "\n",
       "    .dataframe thead th {\n",
       "        text-align: right;\n",
       "    }\n",
       "</style>\n",
       "<table border=\"1\" class=\"dataframe\">\n",
       "  <thead>\n",
       "    <tr style=\"text-align: right;\">\n",
       "      <th></th>\n",
       "      <th>precision</th>\n",
       "      <th>recall</th>\n",
       "      <th>f1-score</th>\n",
       "      <th>support</th>\n",
       "    </tr>\n",
       "  </thead>\n",
       "  <tbody>\n",
       "    <tr>\n",
       "      <th>0</th>\n",
       "      <td>1.0</td>\n",
       "      <td>1.0</td>\n",
       "      <td>1.0</td>\n",
       "      <td>753.0</td>\n",
       "    </tr>\n",
       "    <tr>\n",
       "      <th>1</th>\n",
       "      <td>1.0</td>\n",
       "      <td>1.0</td>\n",
       "      <td>1.0</td>\n",
       "      <td>1247.0</td>\n",
       "    </tr>\n",
       "    <tr>\n",
       "      <th>accuracy</th>\n",
       "      <td>1.0</td>\n",
       "      <td>1.0</td>\n",
       "      <td>1.0</td>\n",
       "      <td>1.0</td>\n",
       "    </tr>\n",
       "    <tr>\n",
       "      <th>macro avg</th>\n",
       "      <td>1.0</td>\n",
       "      <td>1.0</td>\n",
       "      <td>1.0</td>\n",
       "      <td>2000.0</td>\n",
       "    </tr>\n",
       "    <tr>\n",
       "      <th>weighted avg</th>\n",
       "      <td>1.0</td>\n",
       "      <td>1.0</td>\n",
       "      <td>1.0</td>\n",
       "      <td>2000.0</td>\n",
       "    </tr>\n",
       "  </tbody>\n",
       "</table>\n",
       "</div>"
      ],
      "text/plain": [
       "              precision  recall  f1-score  support\n",
       "0                   1.0     1.0       1.0    753.0\n",
       "1                   1.0     1.0       1.0   1247.0\n",
       "accuracy            1.0     1.0       1.0      1.0\n",
       "macro avg           1.0     1.0       1.0   2000.0\n",
       "weighted avg        1.0     1.0       1.0   2000.0"
      ]
     },
     "execution_count": 12,
     "metadata": {},
     "output_type": "execute_result"
    }
   ],
   "source": [
    "from sklearn.linear_model import LogisticRegression\n",
    "from sklearn.ensemble import VotingClassifier\n",
    "lr = LogisticRegression(penalty='l2', solver='liblinear', random_state=42)\n",
    "voting_clf = VotingClassifier(estimators=[('gb', gb), ('rf', rf), ('lr', lr)], voting='soft')\n",
    "voting_clf.fit(X_train, y_train)\n",
    "y_pred_vote = voting_clf.predict(X_test)\n",
    "\n",
    "# Generate classification report as a dictionary\n",
    "voting_dict = classification_report(y_test, y_pred_vote, output_dict=True)\n",
    "\n",
    "# Convert to DataFrame\n",
    "vote_result = pd.DataFrame(voting_dict).transpose()\n",
    "\n",
    "# Display Result\n",
    "vote_result"
   ]
  },
  {
   "cell_type": "markdown",
   "id": "428e7f3d",
   "metadata": {},
   "source": [
    "This shows that:\n",
    "- The ensemble generalized well to unseen data (test set).\n",
    "- Class imbalance, if any, was handled gracefully.\n",
    "- The combination of linear, non-linear, and boosting methods contributed to a robust model.\n",
    "\n",
    "However, it's also important to validate this result with unseen or more diverse datasets to ensure it isn't too good to be true."
   ]
  },
  {
   "cell_type": "markdown",
   "id": "e0d6c892",
   "metadata": {},
   "source": [
    "## Step 12: Save the trained model and scaler"
   ]
  },
  {
   "cell_type": "code",
   "execution_count": 13,
   "id": "599a62e3",
   "metadata": {},
   "outputs": [
    {
     "data": {
      "text/plain": [
       "['scaler.joblib']"
      ]
     },
     "execution_count": 13,
     "metadata": {},
     "output_type": "execute_result"
    }
   ],
   "source": [
    "import joblib\n",
    "joblib.dump(voting_clf, 'model.joblib')\n",
    "joblib.dump(scaler, 'scaler.joblib')"
   ]
  },
  {
   "cell_type": "markdown",
   "id": "82b5f7cb",
   "metadata": {},
   "source": [
    "## Step 13: Tracking with MLflow"
   ]
  },
  {
   "cell_type": "code",
   "execution_count": 14,
   "id": "19423529",
   "metadata": {},
   "outputs": [
    {
     "data": {
      "application/vnd.jupyter.widget-view+json": {
       "model_id": "94357b581b304bc297cbae62aa448e12",
       "version_major": 2,
       "version_minor": 0
      },
      "text/plain": [
       "Downloading artifacts:   0%|          | 0/7 [00:00<?, ?it/s]"
      ]
     },
     "metadata": {},
     "output_type": "display_data"
    },
    {
     "name": "stdout",
     "output_type": "stream",
     "text": [
      "Model and metrics logged to MLflow with input signature.\n"
     ]
    }
   ],
   "source": [
    "import mlflow\n",
    "import mlflow.sklearn\n",
    "from mlflow.models.signature import infer_signature\n",
    "import numpy as np\n",
    "\n",
    "# Example input and predicted output for signature inference\n",
    "input_example = X_test[:1]  # one row of input\n",
    "prediction_example = rf.predict(input_example)\n",
    "\n",
    "# Infer the model signature\n",
    "signature = infer_signature(input_example, prediction_example)\n",
    "\n",
    "# Start MLflow run\n",
    "with mlflow.start_run():\n",
    "    mlflow.sklearn.log_model(\n",
    "        sk_model=rf,\n",
    "        artifact_path='random_forest_model',\n",
    "        signature=signature,\n",
    "        input_example=input_example\n",
    "    )\n",
    "    mlflow.log_params(rf.get_params())\n",
    "    mlflow.log_metric('mean_cv_f1_score', mean_f1)\n",
    "\n",
    "print(\"Model and metrics logged to MLflow with input signature.\")\n"
   ]
  },
  {
   "cell_type": "markdown",
   "id": "9d348fe3",
   "metadata": {},
   "source": [
    "## Step 14: Serve Predictions via REST API using FastAPI"
   ]
  },
  {
   "cell_type": "code",
   "execution_count": 15,
   "id": "86b4447a",
   "metadata": {},
   "outputs": [],
   "source": [
    "from fastapi import FastAPI\n",
    "from pydantic import BaseModel\n",
    "import numpy as np\n",
    "import joblib\n",
    "\n",
    "app = FastAPI()\n",
    "\n",
    "# Load model and scaler\n",
    "model = joblib.load('model.joblib')\n",
    "scaler = joblib.load('scaler.joblib')\n",
    "\n",
    "class EmployeeFeatures(BaseModel):\n",
    "    features: list\n",
    "\n",
    "@app.post('/predict')\n",
    "def predict(data: EmployeeFeatures):\n",
    "    scaled = scaler.transform([data.features])\n",
    "    prediction = model.predict(scaled)\n",
    "    return {\"enrolled\": int(prediction[0])}"
   ]
  },
  {
   "cell_type": "code",
   "execution_count": null,
   "id": "51192ad4",
   "metadata": {},
   "outputs": [],
   "source": []
  }
 ],
 "metadata": {
  "kernelspec": {
   "display_name": "Python 3 (ipykernel)",
   "language": "python",
   "name": "python3"
  },
  "language_info": {
   "codemirror_mode": {
    "name": "ipython",
    "version": 3
   },
   "file_extension": ".py",
   "mimetype": "text/x-python",
   "name": "python",
   "nbconvert_exporter": "python",
   "pygments_lexer": "ipython3",
   "version": "3.10.4"
  }
 },
 "nbformat": 4,
 "nbformat_minor": 5
}
